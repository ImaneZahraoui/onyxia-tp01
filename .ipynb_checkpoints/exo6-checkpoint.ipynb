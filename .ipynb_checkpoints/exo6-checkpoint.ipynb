{
 "cells": [
  {
   "cell_type": "code",
   "execution_count": 6,
   "id": "c47434f0-65f9-46c3-8be3-7aa18fb3b480",
   "metadata": {},
   "outputs": [
    {
     "name": "stdout",
     "output_type": "stream",
     "text": [
      "\u001b]11;?\u001b\\\u001b[6n\u001b[32;1mmc: \u001b[0m\u001b[32;1mConfiguration written to `/home/onyxia/.mc/config.json`. Please update your access credentials.\u001b[0;22m\n",
      "\u001b[32;1mmc: \u001b[0m\u001b[32;1mSuccessfully created `/home/onyxia/.mc/share`.\n",
      "\u001b[0m\u001b[32;1mmc: \u001b[0m\u001b[32;1mInitialized share uploads `/home/onyxia/.mc/share/uploads.json` file.\n",
      "\u001b[0m\u001b[32;1mmc: \u001b[0m\u001b[32;1mInitialized share downloads `/home/onyxia/.mc/share/downloads.json` file.\n",
      "\u001b[0m\u001b[m\u001b[32m[2024-10-21 10:31:29 UTC]\u001b[0m\u001b[33m  12MiB\u001b[0m \u001b[34mSTANDARD\u001b[0m\u001b[1m usagers-2022.csv\u001b[22m\u001b[m\n",
      "\u001b[m\u001b[32m[2024-10-21 10:31:28 UTC]\u001b[0m\u001b[33m 5.7MiB\u001b[0m \u001b[34mSTANDARD\u001b[0m\u001b[1m vehicules-2022.csv\u001b[22m\u001b[m\n"
     ]
    }
   ],
   "source": [
    "!mc ls s3/imanezahraoui"
   ]
  },
  {
   "cell_type": "code",
   "execution_count": 7,
   "id": "affba4e3-7a86-44f0-9f28-3f14ce3946c4",
   "metadata": {},
   "outputs": [
    {
     "name": "stdout",
     "output_type": "stream",
     "text": [
      "...s-2022.csv: 12.41 MiB / 12.41 MiB ┃▓▓▓▓▓▓▓▓▓▓▓▓▓▓▓▓▓▓▓▓▓▓▓▓▓▓┃ 14.11 MiB/s 0s\u001b[0;22m\u001b[0m\u001b[m\u001b[32;1m\u001b[m\u001b[32;1m\u001b[m\u001b[32;1m\u001b[m\u001b[32;1m\u001b[m\u001b[32;1m\u001b[m\u001b[32;1m\u001b[m\u001b[32;1m"
     ]
    }
   ],
   "source": [
    "!mc cp s3/imanezahraoui/usagers-2022.csv ./"
   ]
  },
  {
   "cell_type": "code",
   "execution_count": 8,
   "id": "ab7fb6cc-5317-477b-b988-cfda7c8c0385",
   "metadata": {},
   "outputs": [
    {
     "name": "stdout",
     "output_type": "stream",
     "text": [
      "...s-2022.csv: 5.74 MiB / 5.74 MiB ┃▓▓▓▓▓▓▓▓▓▓▓▓▓▓▓▓▓▓▓▓▓▓▓▓▓▓▓▓┃ 28.87 MiB/s 0s\u001b[0;22m\u001b[0m\u001b[m\u001b[32;1m\u001b[m\u001b[32;1m"
     ]
    }
   ],
   "source": [
    "!mc cp s3/imanezahraoui/vehicules-2022.csv ./"
   ]
  },
  {
   "cell_type": "code",
   "execution_count": null,
   "id": "546ecfaa-9dfd-4d11-bff8-f6d54e813642",
   "metadata": {},
   "outputs": [],
   "source": []
  },
  {
   "cell_type": "code",
   "execution_count": null,
   "id": "ef288977-e1cb-47c7-8caa-24b779669b49",
   "metadata": {},
   "outputs": [],
   "source": [
    "import pandas as pd\n",
    "\n",
    "from sqlalchemy import create_engine\n",
    "\n",
    "user = 'user-imanezahraoui'\n",
    "password = 'hea3rek36yp27sk93ryl'\n",
    "hostname = 'postgresql-385925.user-imanezahraoui'\n",
    "dbname = 'defaultdb'\n",
    "\n",
    "engine = create_engine(f'postgresql+psycopg2://{user}:{password}@{hostname}/{dbname}')\n",
    "\n",
    "df1 = pd.readcsv(\"s3/imanezahraoui/usagers-2022.csv\")\n",
    "df2 = pd.readcsv(\"s3/imanezahraoui/vehicules-2022.csv\")"
   ]
  }
 ],
 "metadata": {
  "kernelspec": {
   "display_name": "Python 3 (ipykernel)",
   "language": "python",
   "name": "python3"
  },
  "language_info": {
   "codemirror_mode": {
    "name": "ipython",
    "version": 3
   },
   "file_extension": ".py",
   "mimetype": "text/x-python",
   "name": "python",
   "nbconvert_exporter": "python",
   "pygments_lexer": "ipython3",
   "version": "3.12.6"
  }
 },
 "nbformat": 4,
 "nbformat_minor": 5
}
